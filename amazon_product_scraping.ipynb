{
  "nbformat": 4,
  "nbformat_minor": 0,
  "metadata": {
    "colab": {
      "provenance": []
    },
    "kernelspec": {
      "name": "python3",
      "display_name": "Python 3"
    },
    "language_info": {
      "name": "python"
    }
  },
  "cells": [
    {
      "cell_type": "markdown",
      "source": [
        "#Importing necessary Libraries and establishing connection requests"
      ],
      "metadata": {
        "id": "FrmWT19a59tA"
      }
    },
    {
      "cell_type": "code",
      "execution_count": null,
      "metadata": {
        "id": "lfoCsMVPHV5Q"
      },
      "outputs": [],
      "source": [
        "import pandas as pd\n",
        "import numpy as np\n",
        "import matplotlib as plt\n",
        "import openpyxl"
      ]
    },
    {
      "cell_type": "code",
      "source": [
        "from urllib.request import urlopen\n",
        "from bs4 import BeautifulSoup\n",
        "import requests\n"
      ],
      "metadata": {
        "id": "o6g8smu-M44T"
      },
      "execution_count": null,
      "outputs": []
    },
    {
      "cell_type": "code",
      "source": [
        "HEADERS = ({'User-Agent':\n",
        "            'Mozilla/5.0 (Windows NT 10.0; Win64; x64) AppleWebKit/537.36 (KHTML, like Gecko) Chrome/111.0.0.0 Safari/537.36 Brave/1.3.361.137'})"
      ],
      "metadata": {
        "id": "UzwcAwivzdtR"
      },
      "execution_count": null,
      "outputs": []
    },
    {
      "cell_type": "code",
      "source": [
        "#Sending a request to a URL\n",
        "\n",
        "URL = \"https://www.amazon.in/s?k=support+and+splints&s=review-rank&ds=v1%3A0bI8MAddSL8unb%2FDkFb8nYjiON6GlzLj7%2FXNuQtQH%2Bc&ref=sr_st_review-rank\"\n",
        "webpage = requests.get(URL,headers =HEADERS)"
      ],
      "metadata": {
        "id": "MroWG07PM452"
      },
      "execution_count": null,
      "outputs": []
    },
    {
      "cell_type": "code",
      "source": [
        "#Creating a soup of information\n",
        "\n",
        "soup = BeautifulSoup(webpage.content, \"lxml\")\n",
        "soup"
      ],
      "metadata": {
        "id": "_8fl9eXiM47p"
      },
      "execution_count": null,
      "outputs": []
    },
    {
      "cell_type": "markdown",
      "source": [
        "#Extracting Titles of the product"
      ],
      "metadata": {
        "id": "iYPBiNPzR-Cx"
      }
    },
    {
      "cell_type": "code",
      "source": [
        "#Discovering the exact tags for Object Extraction\n",
        "#Extracting titles of the product\n",
        "title_tag = soup.find_all(\"span\", attrs={\"class\":'a-size-base-plus a-color-base a-text-normal'})\n"
      ],
      "metadata": {
        "id": "bL1-scUfM49x"
      },
      "execution_count": null,
      "outputs": []
    },
    {
      "cell_type": "code",
      "source": [
        "# Inner NavigableString Object\n",
        "#adding a delimiter(seperator)  between every object so that we can split according to it\n",
        "titles =[]\n",
        "for x in title_tag :\n",
        "  titles.append(x.text)\n",
        "len(titles)"
      ],
      "metadata": {
        "id": "iaeDyYO00PiR"
      },
      "execution_count": null,
      "outputs": []
    },
    {
      "cell_type": "code",
      "source": [
        "#converting it to dataframe\n",
        "\n",
        "df_titles = pd.DataFrame(titles)\n",
        "df_titles"
      ],
      "metadata": {
        "id": "LiyM8S2yyvu2",
        "collapsed": true
      },
      "execution_count": null,
      "outputs": []
    },
    {
      "cell_type": "markdown",
      "source": [
        "## extracting total reviews of product\n",
        "\n"
      ],
      "metadata": {
        "id": "B1jB-NXvMYMy"
      }
    },
    {
      "cell_type": "code",
      "source": [
        "review_tag = soup.find_all(\"span\", attrs={\"class\":'a-size-base s-underline-text'})\n",
        "len(review_tag)"
      ],
      "metadata": {
        "id": "aXP72JmGyvy0"
      },
      "execution_count": null,
      "outputs": []
    },
    {
      "cell_type": "code",
      "source": [
        "\n",
        "total_reviews = []\n",
        "for x in review_tag :\n",
        "   try:\n",
        "          total_reviews.append(x.text)\n",
        "\n",
        "   except AttributeError:\n",
        "\t\t      total_reviews.append(\"0\")\n",
        "#another method which we used earlier is-\n",
        "#rating_value=\"\"\n",
        "#  for x in rating_tag :\n",
        "#   rating_value += x.text + \" \" \n",
        "#but with above method which we are using now we dont need to seperate strings by seperators or we dont need to provide delimeters as well like \"*\" for each string\n",
        "print(total_reviews)    "
      ],
      "metadata": {
        "id": "BwSj3mduMkuv"
      },
      "execution_count": null,
      "outputs": []
    },
    {
      "cell_type": "code",
      "source": [
        "len(total_reviews)"
      ],
      "metadata": {
        "id": "0j6YhptbMmtM"
      },
      "execution_count": null,
      "outputs": []
    },
    {
      "cell_type": "code",
      "source": [
        "df_reviews = pd.DataFrame(total_reviews)"
      ],
      "metadata": {
        "id": "h-zr6fK7N1j6"
      },
      "execution_count": null,
      "outputs": []
    },
    {
      "cell_type": "code",
      "source": [
        "df_product =pd.DataFrame([])\n",
        "df_product[\"Title\"]=df_titles\n",
        "df_product['Review_Count'] = df_reviews\n",
        "df_product"
      ],
      "metadata": {
        "id": "l315cUgNQM-c"
      },
      "execution_count": null,
      "outputs": []
    },
    {
      "cell_type": "code",
      "source": [
        "#Removing ',' and parenthesis from the price\n",
        "df_product['Review_Count'] = df_product['Review_Count'].str.replace(',', '')\n",
        "df_product['Review_Count'] = df_product['Review_Count'].str.strip('(' )\n",
        "df_product['Review_Count'] = df_product['Review_Count'].str.strip(')' )\n",
        "                     #Removing the empty rows it can also work the same<df[df['B'].str.strip().astype(bool)]>\n",
        "df_product"
      ],
      "metadata": {
        "id": "MVswbbj1QhLQ"
      },
      "execution_count": null,
      "outputs": []
    },
    {
      "cell_type": "code",
      "source": [
        "#converting string values of Rating into integer values\n",
        "df_product[\"Review_Count\"] = df_product[\"Review_Count\"].astype(int)\n"
      ],
      "metadata": {
        "id": "WpZNuPqqSxHT"
      },
      "execution_count": null,
      "outputs": []
    },
    {
      "cell_type": "markdown",
      "source": [
        "#Extracting Price of products"
      ],
      "metadata": {
        "id": "B-K3xQw7QhqC"
      }
    },
    {
      "cell_type": "code",
      "source": [
        "#Extracting Price tag\n",
        "price_tag = soup.find_all('span' , attrs={\"class\" :'a-price-whole'})\n",
        "price_tag"
      ],
      "metadata": {
        "id": "8W9kktXGYA97"
      },
      "execution_count": null,
      "outputs": []
    },
    {
      "cell_type": "code",
      "source": [
        "price_list"
      ],
      "metadata": {
        "id": "NgBv-BUPqz1a"
      },
      "execution_count": null,
      "outputs": []
    },
    {
      "cell_type": "code",
      "source": [
        "price_list = []\n",
        "for x in price_tag :\n",
        "  price_list.append(x.text)\n",
        "price_list.remove('5,448' )\n",
        "price_list.remove('4,948')\n",
        "price_list.remove(\"3,948\")\n",
        "price_list.remove('3,153')\n",
        "price_list.remove('2,156.')\n",
        "price_list.remove('5,573')\n",
        "price_list.remove('3,192')\n",
        "price_list.remove('5,448')\n",
        "\n",
        "\n",
        "len(price_list)"
      ],
      "metadata": {
        "id": "YStv_i4tZNTd"
      },
      "execution_count": null,
      "outputs": []
    },
    {
      "cell_type": "code",
      "source": [
        "\n",
        "#Converting this series into dataframe and removing commas and fullstops\n",
        "df_prices = pd.DataFrame(price_list)\n",
        "df_prices[0] = df_prices[0].str.replace(\",\",\"\")      \n",
        "df_prices[0] = df_prices[0].str.replace(\".\",\"\") \n",
        "df_prices"
      ],
      "metadata": {
        "id": "b2bDXkZgZOnC"
      },
      "execution_count": null,
      "outputs": []
    },
    {
      "cell_type": "code",
      "source": [
        "#Converting strings into integers\n",
        "df_prices[0] = df_prices[0].astype(int)"
      ],
      "metadata": {
        "id": "e_MCUC2aa3MF"
      },
      "execution_count": null,
      "outputs": []
    },
    {
      "cell_type": "code",
      "source": [
        "#Adding prices into our final product dataframe\n",
        "df_product['Price'] = df_prices[0]"
      ],
      "metadata": {
        "id": "OI_8SyWfeLIV"
      },
      "execution_count": null,
      "outputs": []
    },
    {
      "cell_type": "code",
      "source": [
        "df_product"
      ],
      "metadata": {
        "id": "tlvX421RGMfA"
      },
      "execution_count": null,
      "outputs": []
    },
    {
      "cell_type": "markdown",
      "source": [
        "#Extracting Ratings of products"
      ],
      "metadata": {
        "id": "oY1jFQClQzJ_"
      }
    },
    {
      "cell_type": "code",
      "source": [
        "rating_tag= soup.find_all('span', attrs={'class':\"a-icon-alt\"})\n",
        "len(rating_tag)\n",
        "rating_tag"
      ],
      "metadata": {
        "id": "0Li2-Lq6Q26p"
      },
      "execution_count": null,
      "outputs": []
    },
    {
      "cell_type": "code",
      "source": [
        "rating_list= [ ]\n",
        "for x in rating_tag:\n",
        "   rating_list.append(x.text)\n",
        "len(rating_list)"
      ],
      "metadata": {
        "id": "RJWVsf2iSHAd"
      },
      "execution_count": null,
      "outputs": []
    },
    {
      "cell_type": "code",
      "source": [
        "rating_list"
      ],
      "metadata": {
        "id": "zR89rc-qZlmU"
      },
      "execution_count": null,
      "outputs": []
    },
    {
      "cell_type": "code",
      "source": [
        "rating_list = rating_list[2: -4]\n",
        "\n",
        "df_list = pd.DataFrame(rating_list)\n",
        "df_list1 = df_list[0].str.split(' ', expand=True)"
      ],
      "metadata": {
        "id": "RxHcdTgrSK3R"
      },
      "execution_count": null,
      "outputs": []
    },
    {
      "cell_type": "code",
      "source": [
        "df_list1=df_list1.drop( [1,2,3,4] , axis = 1)         #dropping unnecessary columns"
      ],
      "metadata": {
        "id": "RqlcI9hZS0KE"
      },
      "execution_count": null,
      "outputs": []
    },
    {
      "cell_type": "code",
      "source": [
        "df_list1[0].astype(float)\n",
        "df_product['Rating'] = df_list1[0]"
      ],
      "metadata": {
        "id": "6lM6MHtvVMBG"
      },
      "execution_count": null,
      "outputs": []
    },
    {
      "cell_type": "code",
      "source": [
        "df_product"
      ],
      "metadata": {
        "id": "nsBIHcyxW2F2"
      },
      "execution_count": null,
      "outputs": []
    },
    {
      "cell_type": "markdown",
      "source": [
        "#Extracting Brand Name"
      ],
      "metadata": {
        "id": "QHZzSPHt7HbC"
      }
    },
    {
      "cell_type": "code",
      "source": [
        "#Function to extract brand tags\n",
        "def brand(soup) :\n",
        "   Brand_tag= soup.find('a', attrs={'id':\"bylineInfo\"})\n",
        "   return Brand_tag\n",
        "\n"
      ],
      "metadata": {
        "id": "Jp_6Nbtc7NK8"
      },
      "execution_count": null,
      "outputs": []
    },
    {
      "cell_type": "code",
      "source": [
        "#fetching tags of all the product pages\n",
        "link_tag= soup.find_all('a', attrs={'class':\"a-link-normal s-underline-text s-underline-link-text s-link-style a-text-normal\"})\n"
      ],
      "metadata": {
        "id": "e4jw_9i_81Cu"
      },
      "execution_count": null,
      "outputs": []
    },
    {
      "cell_type": "code",
      "source": [
        "#extracting the href element from tags\n",
        "links_list= [ ]\n",
        "for link in link_tag:\n",
        "\tlinks_list.append(link.get('href'))\n",
        " \n",
        "links_list"
      ],
      "metadata": {
        "id": "dfJ7_jce-4O-"
      },
      "execution_count": null,
      "outputs": []
    },
    {
      "cell_type": "code",
      "source": [
        "brand_list=[]\n",
        "for link in links_list:\n",
        "  new_webpage = requests.get(\"https://www.amazon.in\" + link, headers=HEADERS)\n",
        "  new_soup = BeautifulSoup(new_webpage.content, \"lxml\")\n",
        "  brand_list.append(brand(new_soup))\n"
      ],
      "metadata": {
        "id": "mSJ9QCNO-4R_"
      },
      "execution_count": null,
      "outputs": []
    },
    {
      "cell_type": "code",
      "source": [
        "#Extracting text element, that is brand name from the brand tags\n",
        "all_brand=[]\n",
        "for x in brand_list:\n",
        "  try:\n",
        "     all_brand.append(x.text)\n",
        "  except AttributeError:\n",
        "      all_brand.append(\"\")                      #Replacing NONE values(if any) with \"\""
      ],
      "metadata": {
        "id": "DpQ0_XAr0xiJ"
      },
      "execution_count": null,
      "outputs": []
    },
    {
      "cell_type": "code",
      "source": [
        "#Removing \"\" (empty elements) from list\n",
        "bran=[]\n",
        "for x in all_brand :\n",
        "  if x!= '':\n",
        "    bran.append(x)\n",
        "\n",
        "print(bran)                      #Final List of all the brands of the products"
      ],
      "metadata": {
        "id": "dNtnvAYJ-4V9"
      },
      "execution_count": null,
      "outputs": []
    },
    {
      "cell_type": "code",
      "source": [],
      "metadata": {
        "id": "MMmAO4Y0Bqga"
      },
      "execution_count": null,
      "outputs": []
    },
    {
      "cell_type": "markdown",
      "source": [
        "#Saving Data Frame in Excel Format"
      ],
      "metadata": {
        "id": "KS9QCFe3GFsA"
      }
    },
    {
      "cell_type": "code",
      "source": [
        "writer = pd.ExcelWriter('support_and_splints2.xlsx')                #need openpyxl library for this\n",
        "df_product.to_excel(writer)\n",
        "writer.save()\n",
        "\n"
      ],
      "metadata": {
        "id": "YBBQh0JeBfmn"
      },
      "execution_count": null,
      "outputs": []
    },
    {
      "cell_type": "code",
      "source": [],
      "metadata": {
        "id": "E7MfJhDSegvT"
      },
      "execution_count": null,
      "outputs": []
    }
  ]
}